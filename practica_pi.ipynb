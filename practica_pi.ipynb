{
 "cells": [
  {
   "cell_type": "code",
   "execution_count": 1,
   "metadata": {},
   "outputs": [],
   "source": [
    "from fastapi import FastAPI\n",
    "app = FastAPI()\n",
    "\n",
    "@app.get(\"/\") #localhost:8000\n",
    "def read_root():\n",
    "    return {\"Hello\": \"World\"}"
   ]
  },
  {
   "cell_type": "code",
   "execution_count": 4,
   "metadata": {},
   "outputs": [],
   "source": [
    "import pymysql"
   ]
  },
  {
   "cell_type": "code",
   "execution_count": 3,
   "metadata": {},
   "outputs": [
    {
     "name": "stdout",
     "output_type": "stream",
     "text": [
      "Collecting pymysql\n",
      "  Downloading PyMySQL-1.0.2-py3-none-any.whl (43 kB)\n",
      "     ---------------------------------------- 43.8/43.8 kB 2.2 MB/s eta 0:00:00\n",
      "Installing collected packages: pymysql\n",
      "Successfully installed pymysql-1.0.2\n",
      "\n",
      "[notice] A new release of pip available: 22.1.2 -> 22.2.2\n",
      "[notice] To update, run: python.exe -m pip install --upgrade pip\n",
      "Note: you may need to restart the kernel to use updated packages.\n"
     ]
    }
   ],
   "source": [
    "pip install pymysql"
   ]
  },
  {
   "cell_type": "code",
   "execution_count": 10,
   "metadata": {},
   "outputs": [],
   "source": [
    "conexion = pymysql.connect (host='localhost', database='proyecto', user ='Pia', password='Pixsiempre1')"
   ]
  },
  {
   "cell_type": "code",
   "execution_count": 6,
   "metadata": {},
   "outputs": [
    {
     "name": "stdout",
     "output_type": "stream",
     "text": [
      "Collecting cryptography\n",
      "  Downloading cryptography-38.0.1-cp36-abi3-win_amd64.whl (2.4 MB)\n",
      "     ---------------------------------------- 2.4/2.4 MB 4.4 MB/s eta 0:00:00\n",
      "Collecting cffi>=1.12\n",
      "  Downloading cffi-1.15.1-cp310-cp310-win_amd64.whl (179 kB)\n",
      "     ------------------------------------- 179.1/179.1 kB 11.3 MB/s eta 0:00:00\n",
      "Collecting pycparser\n",
      "  Downloading pycparser-2.21-py2.py3-none-any.whl (118 kB)\n",
      "     -------------------------------------- 118.7/118.7 kB 7.2 MB/s eta 0:00:00\n",
      "Installing collected packages: pycparser, cffi, cryptography\n",
      "Successfully installed cffi-1.15.1 cryptography-38.0.1 pycparser-2.21\n",
      "\n",
      "[notice] A new release of pip available: 22.1.2 -> 22.2.2\n",
      "[notice] To update, run: python.exe -m pip install --upgrade pip\n",
      "Note: you may need to restart the kernel to use updated packages.\n"
     ]
    }
   ],
   "source": [
    "pip install cryptography"
   ]
  },
  {
   "cell_type": "code",
   "execution_count": 8,
   "metadata": {},
   "outputs": [],
   "source": [
    "import cryptography"
   ]
  },
  {
   "cell_type": "code",
   "execution_count": 11,
   "metadata": {},
   "outputs": [],
   "source": [
    "cursor = conexion.cursor()"
   ]
  },
  {
   "cell_type": "code",
   "execution_count": 21,
   "metadata": {},
   "outputs": [
    {
     "data": {
      "text/plain": [
       "1"
      ]
     },
     "execution_count": 21,
     "metadata": {},
     "output_type": "execute_result"
    }
   ],
   "source": [
    "cursor.execute(\"SELECT  Year FROM races GROUP BY YEAR ORDER BY COUNT(*) DESC LIMIT 1;\")"
   ]
  },
  {
   "cell_type": "code",
   "execution_count": 22,
   "metadata": {},
   "outputs": [
    {
     "name": "stdout",
     "output_type": "stream",
     "text": [
      "Anio con mas carreras 2021\n"
     ]
    }
   ],
   "source": [
    "for year in cursor:\n",
    "    print (\"Anio con mas carreras\", year[0])"
   ]
  },
  {
   "cell_type": "code",
   "execution_count": 23,
   "metadata": {},
   "outputs": [
    {
     "name": "stdout",
     "output_type": "stream",
     "text": [
      "Anio con mas carreras 2021\n"
     ]
    }
   ],
   "source": [
    "import cryptography\n",
    "conexion = pymysql.connect (host='localhost', database='proyecto', user ='Pia', password='Pixsiempre1')\n",
    "cursor = conexion.cursor()\n",
    "cursor.execute(\"SELECT  Year FROM races GROUP BY YEAR ORDER BY COUNT(*) DESC LIMIT 1;\")\n",
    "for year in cursor:\n",
    "    print (\"Anio con mas carreras\", year[0])"
   ]
  },
  {
   "cell_type": "code",
   "execution_count": 25,
   "metadata": {},
   "outputs": [
    {
     "name": "stdout",
     "output_type": "stream",
     "text": [
      "Piloto con mayor cantidad de primeros puestos: Lewis Hamilton\n"
     ]
    }
   ],
   "source": [
    "conexion = pymysql.connect (host='localhost', database='proyecto', user ='Pia', password='Pixsiempre1')\n",
    "cursor = conexion.cursor()\n",
    "cursor.execute(\"SELECT forename, surname FROM drivers where driverId= (SELECT   driverId FROM results where position=1 GROUP BY driverId ORDER BY COUNT(*) DESC LIMIT 1);\")\n",
    "for forename, surname in cursor:\n",
    "    print (\"Piloto con mayor cantidad de primeros puestos:\", forename, surname)"
   ]
  },
  {
   "cell_type": "code",
   "execution_count": 28,
   "metadata": {},
   "outputs": [
    {
     "name": "stdout",
     "output_type": "stream",
     "text": [
      "Nombre del circuito más corrido: Italian Grand Prix\n"
     ]
    }
   ],
   "source": [
    "conexion = pymysql.connect (host='localhost', database='proyecto', user ='Pia', password='Pixsiempre1')\n",
    "cursor = conexion.cursor()\n",
    "cursor.execute(\"SELECT name FROM races where circuitId= (SELECT  circuitId FROM races GROUP BY circuitId ORDER BY COUNT(*) DESC LIMIT 1)LIMIT 1;\")\n",
    "for name in cursor:\n",
    "    print (\"Nombre del circuito más corrido:\", name[0])"
   ]
  },
  {
   "cell_type": "code",
   "execution_count": 29,
   "metadata": {},
   "outputs": [
    {
     "name": "stdout",
     "output_type": "stream",
     "text": [
      "Piloto con mayor cantidad de puntos en total, cuyo constructor sea de nacionalidad sea American o British: Jenson Button\n"
     ]
    }
   ],
   "source": [
    "conexion = pymysql.connect (host='localhost', database='proyecto', user ='Pia', password='Pixsiempre1')\n",
    "cursor = conexion.cursor()\n",
    "cursor.execute(\"SELECT forename, surname FROM drivers where driverId=(SELECT  driverId FROM results WHERE constructorId in (SELECT constructorId FROM constructors where nationality='British' or 'American') GROUP BY driverId ORDER BY SUM(points) DESC LIMIT 1);\")\n",
    "for forename, surname in cursor:\n",
    "    print (\"Piloto con mayor cantidad de puntos en total, cuyo constructor sea de nacionalidad sea American o British:\", forename, surname)"
   ]
  }
 ],
 "metadata": {
  "kernelspec": {
   "display_name": "Python 3.10.2 64-bit",
   "language": "python",
   "name": "python3"
  },
  "language_info": {
   "codemirror_mode": {
    "name": "ipython",
    "version": 3
   },
   "file_extension": ".py",
   "mimetype": "text/x-python",
   "name": "python",
   "nbconvert_exporter": "python",
   "pygments_lexer": "ipython3",
   "version": "3.10.2"
  },
  "orig_nbformat": 4,
  "vscode": {
   "interpreter": {
    "hash": "cd11abd7c5feafb0f34e43f8a96f92a01edf1712f8eb7631270cfb7ccac7f44f"
   }
  }
 },
 "nbformat": 4,
 "nbformat_minor": 2
}
